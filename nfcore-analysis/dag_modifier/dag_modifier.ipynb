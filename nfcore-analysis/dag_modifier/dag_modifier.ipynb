{
 "cells": [
  {
   "cell_type": "markdown",
   "id": "490a655c",
   "metadata": {},
   "source": [
    "We adjust the dot-file code to generate similar DAG representations."
   ]
  },
  {
   "cell_type": "code",
   "execution_count": 13,
   "id": "58d1e09a",
   "metadata": {},
   "outputs": [],
   "source": [
    "import pydot\n",
    "import graphviz\n",
    "\n",
    "def dag_modification(dot_file, output_dot_file, output_png_file):\n",
    "    def add_node_colors(graph):\n",
    "        label_colors = {}\n",
    "        for node in graph.get_nodes():\n",
    "            label = node.get_attributes().get('label')\n",
    "            if label and label.isupper():\n",
    "                if label not in label_colors:\n",
    "                    # generate color out of label hash\n",
    "                    color = \"#{:06x}\".format(hash(label) & 0xFFFFFF)\n",
    "                    label_colors[label] = color\n",
    "                else:\n",
    "                    color = label_colors[label]\n",
    "                node.set_color(color)\n",
    "        return graph\n",
    "\n",
    "    graph = pydot.graph_from_dot_file(dot_file)[0]\n",
    "    graph = add_node_colors(graph)\n",
    "\n",
    "    '''dot_string = 'digraph ' + graph.get_name() + ' {\\n'\n",
    "    dot_string += 'graph[bgcolor=white, margin=0];\\n'\n",
    "    dot_string += 'node[shape=box, style=rounded, fontname=sans, fontsize=10, penwidth=2];\\n'\n",
    "    dot_string += 'edge[penwidth=2, color=grey, fontname=sans, fontsize=10];\\n'\n",
    "    dot_string += graph.to_string()[graph.to_string().find('{') + 1:]'''\n",
    "    \n",
    "    dot_string = 'digraph ' + graph.get_name() + ' {\\n'\n",
    "    dot_string += 'graph[bgcolor=white, margin=0];\\n'\n",
    "    dot_string += 'node[shape=box, style=rounded, fontname=\"Sans-bold\", fontsize=17];\\n'  # fontsize was 10 before, fontname=\"Helvetica-Bold\"\n",
    "    dot_string += 'edge[penwidth=2, color=grey, fontname=\"Sans-bold\", fontsize=17];\\n'\n",
    "    dot_string += graph.to_string()[graph.to_string().find('{') + 1:]\n",
    "\n",
    "    with open(output_dot_file, 'w') as f:\n",
    "        f.write(dot_string)\n",
    "\n",
    "    with open(output_dot_file, 'r') as f:\n",
    "        dot_data = f.read()\n",
    "\n",
    "    graphviz.Source(dot_data).render(output_png_file, format='png')"
   ]
  },
  {
   "cell_type": "markdown",
   "id": "54916ad4",
   "metadata": {},
   "source": [
    "Change the path to the dot-file of the pipeline here:"
   ]
  },
  {
   "cell_type": "code",
   "execution_count": 14,
   "id": "b0135c0f",
   "metadata": {},
   "outputs": [
    {
     "name": "stderr",
     "output_type": "stream",
     "text": [
      "\r\n",
      "(process:2288): Pango-WARNING **: 12:13:02.027: couldn't load font \"Sans-bold Not-Rotated 17\", falling back to \"Sans Not-Rotated 17\", expect ugly output.\r\n"
     ]
    }
   ],
   "source": [
    "input_dot_file = '../dags/createtaxdb_dag.dot'\n",
    "output_dot_file = 'createtaxdb_dag_prettier.dot'\n",
    "output_png_file = 'createtaxdb_dag_prettier'\n",
    "dag_modification(input_dot_file, output_dot_file, output_png_file)"
   ]
  },
  {
   "cell_type": "code",
   "execution_count": null,
   "id": "c43ebdd8",
   "metadata": {},
   "outputs": [],
   "source": []
  }
 ],
 "metadata": {
  "kernelspec": {
   "display_name": "Python 3 (ipykernel)",
   "language": "python",
   "name": "python3"
  },
  "language_info": {
   "codemirror_mode": {
    "name": "ipython",
    "version": 3
   },
   "file_extension": ".py",
   "mimetype": "text/x-python",
   "name": "python",
   "nbconvert_exporter": "python",
   "pygments_lexer": "ipython3",
   "version": "3.11.5"
  }
 },
 "nbformat": 4,
 "nbformat_minor": 5
}
